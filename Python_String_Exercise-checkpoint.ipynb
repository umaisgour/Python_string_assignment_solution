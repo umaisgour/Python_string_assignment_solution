{
 "cells": [
  {
   "cell_type": "markdown",
   "id": "189867a8-52c6-426b-b9ab-1695fe6d7044",
   "metadata": {
    "editable": true,
    "slideshow": {
     "slide_type": ""
    },
    "tags": []
   },
   "source": [
    "# Python String Exercise"
   ]
  },
  {
   "cell_type": "markdown",
   "id": "448fecdc-fc8b-433f-a291-96cf0b52ed2d",
   "metadata": {},
   "source": [
    "# Q.1 How do you concatenate two strings in Python?"
   ]
  },
  {
   "cell_type": "code",
   "execution_count": null,
   "id": "423d0d2e-39d4-4162-b846-aa1fd044d794",
   "metadata": {},
   "outputs": [],
   "source": [
    "# Concatenate (join) two strings simply using the + operator\n",
    "string1 = \"Hello, \"\n",
    "string2 = \"world!\"\n",
    "result = string1 + string2\n",
    "print(result)"
   ]
  },
  {
   "cell_type": "markdown",
   "id": "ee37b21c-854f-4420-b30a-f4ba4565257d",
   "metadata": {},
   "source": [
    "# Q.2 What is the difference between the + operator and the join() method for concatenating strings?"
   ]
  },
  {
   "cell_type": "code",
   "execution_count": null,
   "id": "ecb611d6-98f5-4b38-a572-d035bd748716",
   "metadata": {},
   "outputs": [],
   "source": [
    "# + Operator Method\n",
    "# Use: Simple, small number of string concatenations.\n",
    "\n",
    "s1 = \"Hello\"\n",
    "s2 = \"World\"\n",
    "result = s1 + \" \" + s2\n",
    "print(result)\n",
    "\n",
    "# Downside: When used repeatedly (like in a loop), \n",
    "# It creates a new string object every time since strings are immutable in Python — \n",
    "# which can be inefficient."
   ]
  },
  {
   "cell_type": "code",
   "execution_count": null,
   "id": "dedf0fac-11d5-490f-a55a-8363f122ca05",
   "metadata": {},
   "outputs": [],
   "source": [
    "# join() method (useful for combining multiple strings)\n",
    "\n",
    "strings = [\"Hello\", \"world\", \"!\"]\n",
    "result = \" \".join(strings)\n",
    "print(result)\n"
   ]
  },
  {
   "cell_type": "code",
   "execution_count": null,
   "id": "9cb2fe46-7495-47b8-90eb-3ccc4fa69c4a",
   "metadata": {},
   "outputs": [],
   "source": [
    "'''| `+` Operator                      | `join()` Method                  |\n",
    "| :----------------------------------- | :------------------------------- |\n",
    "| Good for small, simple cases         | Best for joining many strings    |\n",
    "| Creates new string objects each time | More memory and time efficient   |\n",
    "| Not ideal in loops                   | Ideal in loops or with iterables |'''\n"
   ]
  },
  {
   "cell_type": "markdown",
   "id": "d78b7d8f-28a9-4fde-bb3f-c6837fbeab7a",
   "metadata": {},
   "source": [
    "# Q.3 How do you access individual characters in a string?"
   ]
  },
  {
   "cell_type": "code",
   "execution_count": null,
   "id": "f37368ac-429d-4c87-98b4-b22f12e96a14",
   "metadata": {},
   "outputs": [],
   "source": [
    "# Positive Indexing: Indexing starts at 0 (the first character)\n",
    "name = \"Python\"\n",
    "print(name[0])  # Output: P\n",
    "print(name[3])  # Output: h\n"
   ]
  },
  {
   "cell_type": "code",
   "execution_count": null,
   "id": "94e29425-93d4-4938-924a-f383bea5069d",
   "metadata": {},
   "outputs": [],
   "source": [
    "# Negative indexing counts from the end (-1 is the last character)\n",
    "name = \"Python\"\n",
    "print(name[-1])  # Output: n\n",
    "print(name[-2])  # Output: o\n"
   ]
  },
  {
   "cell_type": "markdown",
   "id": "7a70c73e-6473-4a01-8b93-b295c7e0a205",
   "metadata": {},
   "source": [
    "# Q.4 What method is used to find the length of a string in Python?"
   ]
  },
  {
   "cell_type": "code",
   "execution_count": null,
   "id": "c35fea43-36d8-44cf-8a87-f0d6d5bf1c94",
   "metadata": {},
   "outputs": [],
   "source": [
    "# Using the len() function.\n",
    "a = \"Hello, world!\"\n",
    "length = len(a)\n",
    "print(length)\n"
   ]
  },
  {
   "cell_type": "markdown",
   "id": "ca448a00-fe39-43c0-ad48-19358ea33beb",
   "metadata": {},
   "source": [
    "# Q.5 How can you convert a string to uppercase in Python?"
   ]
  },
  {
   "cell_type": "code",
   "execution_count": 11,
   "id": "2bb03fcf-8c88-431b-9de7-7c585fd10336",
   "metadata": {},
   "outputs": [
    {
     "name": "stdout",
     "output_type": "stream",
     "text": [
      "HELLO, WORLD!\n"
     ]
    }
   ],
   "source": [
    "text = \"hello, world!\"\n",
    "uppercase_text = text.upper()\n",
    "print(uppercase_text)\n"
   ]
  },
  {
   "cell_type": "markdown",
   "id": "0daca9db-ed52-4a03-ac07-b06b29cd1cfd",
   "metadata": {},
   "source": [
    "# Q.6 How can you convert a string to lowercase in Python?"
   ]
  },
  {
   "cell_type": "code",
   "execution_count": 12,
   "id": "97434817-3659-4659-b0fc-45420ef82b17",
   "metadata": {},
   "outputs": [
    {
     "name": "stdout",
     "output_type": "stream",
     "text": [
      "hello, world!\n"
     ]
    }
   ],
   "source": [
    "text = \"HELLO, WORLD!\"\n",
    "lowercase_text = text.lower()\n",
    "print(lowercase_text)\n"
   ]
  },
  {
   "cell_type": "markdown",
   "id": "4bf792e3-cfd6-416b-81c2-989afa6a1f16",
   "metadata": {},
   "source": [
    "# Q.7 What method is used to replace substrings within a string?"
   ]
  },
  {
   "cell_type": "code",
   "execution_count": 13,
   "id": "356f8aef-78b3-4e93-a60b-96d4ee04c4d9",
   "metadata": {},
   "outputs": [
    {
     "name": "stdout",
     "output_type": "stream",
     "text": [
      "I love coding. coding is awesome!\n"
     ]
    }
   ],
   "source": [
    "# old → the substring you want to replace\n",
    "# new → the substring you want to insert\n",
    "# count (optional) → number of times to replace (if omitted, replaces all occurrences)\n",
    "text = \"I love Python. Python is awesome!\"\n",
    "new_text = text.replace(\"Python\", \"coding\")\n",
    "print(new_text)\n"
   ]
  },
  {
   "cell_type": "markdown",
   "id": "92273c03-d34e-4163-8fda-328c302675b9",
   "metadata": {},
   "source": [
    "# Q.8 How can you split a string into a list of substrings based on a delimiter?"
   ]
  },
  {
   "cell_type": "code",
   "execution_count": null,
   "id": "8cae6902-a9af-4afc-baca-9e9b0021c65d",
   "metadata": {},
   "outputs": [],
   "source": [
    "# Splitting by Spaces (default)\n",
    "text = \"Python is awesome\"\n",
    "words = text.split()\n",
    "print(words)\n"
   ]
  },
  {
   "cell_type": "code",
   "execution_count": null,
   "id": "ba9a18b8-2377-4798-8f6b-194898ec8509",
   "metadata": {},
   "outputs": [],
   "source": [
    "# Example: Splitting by Comma\n",
    "data = \"apple,banana,orange\"\n",
    "fruits = data.split(\",\")\n",
    "print(fruits)\n"
   ]
  },
  {
   "cell_type": "code",
   "execution_count": null,
   "id": "62b481cc-3820-42c9-bbe8-c3f941f3b33e",
   "metadata": {},
   "outputs": [],
   "source": [
    "# Example: Using maxsplit\n",
    "text = \"one two three four\"\n",
    "parts = text.split(\" \", 2)\n",
    "print(parts)\n"
   ]
  },
  {
   "cell_type": "markdown",
   "id": "942d88ab-c6cf-427a-a8ab-342e1baf365e",
   "metadata": {},
   "source": [
    "# Q.9 How do you check if a string starts with a particular substring?"
   ]
  },
  {
   "cell_type": "code",
   "execution_count": 18,
   "id": "0d02408b-3d9b-4ffa-8005-fa39155702ad",
   "metadata": {},
   "outputs": [
    {
     "name": "stdout",
     "output_type": "stream",
     "text": [
      "True\n",
      "False\n"
     ]
    }
   ],
   "source": [
    "# string.startswith(substring)\n",
    "# string.startswith(substring, start, end)\n",
    "\n",
    "text = \"Python is fun!\"\n",
    "print(text.startswith(\"Python\"))  # Output: True\n",
    "print(text.startswith(\"python\"))  # Output: False (case-sensitive)\n"
   ]
  },
  {
   "cell_type": "markdown",
   "id": "a1e68666-da6c-426c-ad60-2c508af713e1",
   "metadata": {},
   "source": [
    "# Q.10 How do you check if a string ends with a particular substring?"
   ]
  },
  {
   "cell_type": "code",
   "execution_count": 22,
   "id": "920c6458-0d6a-4721-b399-534bb714419b",
   "metadata": {},
   "outputs": [
    {
     "name": "stdout",
     "output_type": "stream",
     "text": [
      "True\n",
      "False\n"
     ]
    }
   ],
   "source": [
    "text = \"Python is fun!\"\n",
    "print(text.endswith(\"fun!\"))  # Output: True\n",
    "print(text.endswith(\"Fun!\"))  # Output: False (case-sensitive)\n"
   ]
  },
  {
   "cell_type": "markdown",
   "id": "41fa845d-c083-433d-b8b2-0cfe072d5af6",
   "metadata": {},
   "source": [
    "# Q.11 How can you remove leading and trailing whitespace from a string?"
   ]
  },
  {
   "cell_type": "code",
   "execution_count": 23,
   "id": "79fde488-d43e-499c-a80f-11bed0f9a0f3",
   "metadata": {},
   "outputs": [
    {
     "name": "stdout",
     "output_type": "stream",
     "text": [
      "Hello, world!\n"
     ]
    }
   ],
   "source": [
    "text = \"   Hello, world!   \"\n",
    "clean_text = text.strip()\n",
    "print(clean_text)\n"
   ]
  },
  {
   "cell_type": "markdown",
   "id": "c5f593aa-a6c3-46a4-82cf-ec91c730743a",
   "metadata": {},
   "source": [
    "# Q.12 What method is used to find the index of the first occurrence of a substring within a string?"
   ]
  },
  {
   "cell_type": "code",
   "execution_count": 24,
   "id": "51a2fbb5-6c2a-4c10-a024-5e1c491fbe93",
   "metadata": {},
   "outputs": [
    {
     "name": "stdout",
     "output_type": "stream",
     "text": [
      "7\n"
     ]
    }
   ],
   "source": [
    "text = \"Python is fun!\"\n",
    "position = text.find(\"is\")\n",
    "print(position)\n"
   ]
  },
  {
   "cell_type": "markdown",
   "id": "c6f6ccd0-5726-4f32-b188-48aac9dbca82",
   "metadata": {},
   "source": [
    "# Q.13 How can you count the number of occurrences of a substring within a string?"
   ]
  },
  {
   "cell_type": "code",
   "execution_count": 25,
   "id": "562ce86e-0aaa-4b83-856d-ea05f5519991",
   "metadata": {},
   "outputs": [
    {
     "name": "stdout",
     "output_type": "stream",
     "text": [
      "3\n"
     ]
    }
   ],
   "source": [
    "text = \"banana\"\n",
    "count = text.count(\"a\")\n",
    "print(count)\n"
   ]
  },
  {
   "cell_type": "markdown",
   "id": "4862e2d9-05d2-4534-84fd-4f142f4c78e8",
   "metadata": {},
   "source": [
    "# Q.14 How do you check if a string contains only alphabetic characters?"
   ]
  },
  {
   "cell_type": "code",
   "execution_count": 26,
   "id": "c8924e6b-107e-4459-9351-30d52ccf3c4a",
   "metadata": {},
   "outputs": [
    {
     "name": "stdout",
     "output_type": "stream",
     "text": [
      "True\n",
      "False\n",
      "False\n"
     ]
    }
   ],
   "source": [
    "word = \"Hello\"\n",
    "print(word.isalpha())   # Output: True\n",
    "\n",
    "word2 = \"Hello123\"\n",
    "print(word2.isalpha())  # Output: False\n",
    "\n",
    "word3 = \"Hello World\"\n",
    "print(word3.isalpha())  # Output: False (because of space)\n"
   ]
  },
  {
   "cell_type": "markdown",
   "id": "d0c5c1f2-0c1f-42d0-a0f3-308220b90526",
   "metadata": {},
   "source": [
    "# Q.15 How do you check if a string contains only numeric characters?"
   ]
  },
  {
   "cell_type": "code",
   "execution_count": 30,
   "id": "4a329569-c35d-4f5f-bb8b-32f6d692e39d",
   "metadata": {},
   "outputs": [
    {
     "name": "stdout",
     "output_type": "stream",
     "text": [
      "True\n",
      "False\n",
      "False\n"
     ]
    }
   ],
   "source": [
    "num1 = \"12345\"\n",
    "print(num1.isdigit())   # Output: True\n",
    "\n",
    "num2 = \"123abc\"\n",
    "print(num2.isdigit())   # Output: False\n",
    "\n",
    "num3 = \"123 456\"\n",
    "print(num3.isdigit())   # Output: False (because of space)\n"
   ]
  },
  {
   "cell_type": "markdown",
   "id": "ef0c8aae-af98-4428-b36e-ba0d3d29643f",
   "metadata": {},
   "source": [
    "# Q.16 How can you check if a string is a palindrome?"
   ]
  },
  {
   "cell_type": "code",
   "execution_count": 31,
   "id": "e82ead7d-b86c-41a1-8c4e-58d4a7ca05e1",
   "metadata": {},
   "outputs": [
    {
     "name": "stdout",
     "output_type": "stream",
     "text": [
      "It's a palindrome!\n"
     ]
    }
   ],
   "source": [
    "text = \"madam\"\n",
    "\n",
    "if text == text[::-1]:\n",
    "    print(\"It's a palindrome!\")\n",
    "else:\n",
    "    print(\"Not a palindrom.\")\n"
   ]
  },
  {
   "cell_type": "markdown",
   "id": "d4778e5f-bafb-4c5c-ac29-fee218c6fff8",
   "metadata": {},
   "source": [
    "# Q.17 How can you reverse a string in Python?"
   ]
  },
  {
   "cell_type": "code",
   "execution_count": 32,
   "id": "cfbe3aad-2d4d-4298-bb45-a4b070e19c8d",
   "metadata": {},
   "outputs": [
    {
     "name": "stdout",
     "output_type": "stream",
     "text": [
      "nohtyP\n"
     ]
    }
   ],
   "source": [
    "text = \"Python\"\n",
    "reversed_text = text[::-1]\n",
    "print(reversed_text)\n"
   ]
  },
  {
   "cell_type": "markdown",
   "id": "224506ff-81de-4b9a-aa9f-de8c66d77138",
   "metadata": {},
   "source": [
    "# Q.18 How do you format a string with placeholders for variable values?"
   ]
  },
  {
   "cell_type": "code",
   "execution_count": 33,
   "id": "c8b95643-f9fd-4fae-9596-467cd64424fc",
   "metadata": {},
   "outputs": [
    {
     "name": "stdout",
     "output_type": "stream",
     "text": [
      "My name is Alice and I am 25 years old.\n"
     ]
    }
   ],
   "source": [
    "#  f-Strings (Recommended, Python 3.6+)\n",
    "name = \"Alice\"\n",
    "age = 25\n",
    "\n",
    "message = f\"My name is {name} and I am {age} years old.\"\n",
    "print(message)\n"
   ]
  },
  {
   "cell_type": "code",
   "execution_count": 34,
   "id": "0590f6a2-a19b-485e-807b-367b64694ea3",
   "metadata": {},
   "outputs": [
    {
     "name": "stdout",
     "output_type": "stream",
     "text": [
      "My name is Alice and I am 25 years old.\n"
     ]
    }
   ],
   "source": [
    "# .format() Method\n",
    "name = \"Alice\"\n",
    "age = 25\n",
    "\n",
    "message = \"My name is {} and I am {} years old.\".format(name, age)\n",
    "print(message)\n"
   ]
  },
  {
   "cell_type": "code",
   "execution_count": 35,
   "id": "3b201d12-1067-4468-9603-16e2d6afc604",
   "metadata": {},
   "outputs": [
    {
     "name": "stdout",
     "output_type": "stream",
     "text": [
      "My name is Alice and I am 25 years old.\n"
     ]
    }
   ],
   "source": [
    "# % Operator (Old Style, still works)\n",
    "name = \"Alice\"\n",
    "age = 25\n",
    "\n",
    "message = \"My name is %s and I am %d years old.\" % (name, age)\n",
    "print(message)\n"
   ]
  },
  {
   "cell_type": "markdown",
   "id": "944715b3-22c6-4d2d-ac4d-3aad50010de6",
   "metadata": {},
   "source": [
    "# Q.19 How do you access a substring of a string using slicing?"
   ]
  },
  {
   "cell_type": "code",
   "execution_count": null,
   "id": "b272e2c6-88ad-4e18-a7cd-ba714c78e0ed",
   "metadata": {},
   "outputs": [],
   "source": [
    "# start → index where the slice begins (inclusive)\n",
    "# end → index where the slice stops (exclusive)\n",
    "# Indices start at 0\n",
    "# substring = string[start:end]\n"
   ]
  },
  {
   "cell_type": "code",
   "execution_count": 40,
   "id": "66283148-b52b-4e32-ae18-d2fcd58f5683",
   "metadata": {},
   "outputs": [
    {
     "name": "stdout",
     "output_type": "stream",
     "text": [
      "Python\n",
      "Programming\n",
      "Python\n",
      "Programming\n",
      "Pto rga\n"
     ]
    }
   ],
   "source": [
    "text = \"Python Programming\"\n",
    "\n",
    "# Get substring from index 0 to 6 (6 is not included)\n",
    "sub = text[0:6]\n",
    "print(sub)\n",
    "\n",
    "# Slicing with Optional Indices:\n",
    "\n",
    "# From a position to the end:\n",
    "print(text[7:])   # Output: Programming\n",
    "\n",
    "# From the start up to a position:\n",
    "print(text[:6])   # Output: Python\n",
    "\n",
    "# Using negative indices (from the end of the string):\n",
    "print(text[-11:])  # Output: Programming\n",
    "\n",
    "# With a step value (skip characters):\n",
    "print(text[0:14:2])  # Output: Pto rga"
   ]
  },
  {
   "cell_type": "markdown",
   "id": "9d415e8a-f808-4822-8264-ff8869387cf1",
   "metadata": {},
   "source": [
    "# Q.20 How can you remove specific characters from a string in Python?"
   ]
  },
  {
   "cell_type": "code",
   "execution_count": 41,
   "id": "6f342490-5be2-446b-ac23-37dd17150fc4",
   "metadata": {},
   "outputs": [
    {
     "name": "stdout",
     "output_type": "stream",
     "text": [
      "heo word\n"
     ]
    }
   ],
   "source": [
    "# Using .replace()\n",
    "# remove a specific character or substring:\n",
    "\n",
    "text = \"hello world\"\n",
    "new_text = text.replace(\"l\", \"\")\n",
    "print(new_text)\n"
   ]
  },
  {
   "cell_type": "code",
   "execution_count": 42,
   "id": "3736566f-d8e0-41bb-a7c3-ade2e1722a0d",
   "metadata": {},
   "outputs": [
    {
     "name": "stdout",
     "output_type": "stream",
     "text": [
      "hello world\n"
     ]
    }
   ],
   "source": [
    "# Using str.translate() with str.maketrans()\n",
    "# Remove multiple characters at once:\n",
    "\n",
    "python\n",
    "Copy code\n",
    "\n",
    "text = \"hello, world!\"\n",
    "remove_chars = \",!\"\n",
    "\n",
    "new_text = text.translate(str.maketrans(\"\", \"\", remove_chars))\n",
    "print(new_text)\n"
   ]
  },
  {
   "cell_type": "code",
   "execution_count": 43,
   "id": "92fd3860-976f-407e-a766-2ccfb4f9f029",
   "metadata": {},
   "outputs": [
    {
     "name": "stdout",
     "output_type": "stream",
     "text": [
      "helloworld\n"
     ]
    }
   ],
   "source": [
    "# Using List Comprehension (for custom rules)\n",
    "# remove characters based on a condition:\n",
    "text = \"hello123world\"\n",
    "new_text = \"\".join(char for char in text if not char.isdigit())\n",
    "print(new_text)\n"
   ]
  },
  {
   "cell_type": "code",
   "execution_count": null,
   "id": "210babfc-0f79-4fe2-9a37-75cd423de860",
   "metadata": {},
   "outputs": [],
   "source": []
  }
 ],
 "metadata": {
  "kernelspec": {
   "display_name": "Python 3 (ipykernel)",
   "language": "python",
   "name": "python3"
  },
  "language_info": {
   "codemirror_mode": {
    "name": "ipython",
    "version": 3
   },
   "file_extension": ".py",
   "mimetype": "text/x-python",
   "name": "python",
   "nbconvert_exporter": "python",
   "pygments_lexer": "ipython3",
   "version": "3.12.7"
  }
 },
 "nbformat": 4,
 "nbformat_minor": 5
}
